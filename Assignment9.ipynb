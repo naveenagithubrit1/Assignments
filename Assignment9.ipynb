{
 "cells": [
  {
   "cell_type": "code",
   "execution_count": null,
   "id": "ba3e9c9f",
   "metadata": {},
   "outputs": [],
   "source": [
    "1. To what does a relative path refer?\n",
    "Sol.\n",
    "   Relative path are relatives to current working directory."
   ]
  },
  {
   "cell_type": "code",
   "execution_count": null,
   "id": "97b339c9",
   "metadata": {},
   "outputs": [],
   "source": [
    "2. What does an absolute path start with your operating system?\n",
    "Sol.\n",
    "  Absolute paths start with the root folder, such as / or C:. An absolute path always contains the root elements and the complete list of directories to locate the specific file or folder.\n",
    "  All the information required to locate the file or folder is available in the absolute path."
   ]
  },
  {
   "cell_type": "code",
   "execution_count": null,
   "id": "6904a3fd",
   "metadata": {},
   "outputs": [],
   "source": [
    "3. What do the functions os.getcwd() and os.chdir() do?\n",
    "Sol.\n",
    "   os.getcwd() : This helps to get current working directory\n",
    "   os.chdir(): This helps to change the directory"
   ]
  },
  {
   "cell_type": "code",
   "execution_count": null,
   "id": "b094f89c",
   "metadata": {},
   "outputs": [],
   "source": [
    "4. What are the . and .. folders?\n",
    "Sol.\n",
    "   . is current folder\n",
    "   .. is parent folder"
   ]
  },
  {
   "cell_type": "code",
   "execution_count": null,
   "id": "86bbd58a",
   "metadata": {},
   "outputs": [],
   "source": [
    "5. In C:\\bacon\\eggs\\spam.txt, which part is the dir name, and which part is the base name?\n",
    "Sol.\n",
    "   c:\\bacon\\eggs -- Directory name\n",
    "   spam.txt -- base name     "
   ]
  },
  {
   "cell_type": "code",
   "execution_count": null,
   "id": "488e6260",
   "metadata": {},
   "outputs": [],
   "source": [
    "6. What are the three “mode” arguments that can be passed to the open() function?\n",
    "Sol.\n",
    "   'r' -- read mode\n",
    "    'w' -- write mode\n",
    "    'a' -- append mode , These are the 3 modes that can be passed to the open() function."
   ]
  },
  {
   "cell_type": "code",
   "execution_count": null,
   "id": "b18a7c06",
   "metadata": {},
   "outputs": [],
   "source": [
    "7. What happens if an existing file is opened in write mode?\n",
    "Sol.\n",
    "   If an existing file is opened in write mode , then it can be erased and overwritten."
   ]
  },
  {
   "cell_type": "code",
   "execution_count": null,
   "id": "5f2738a9",
   "metadata": {},
   "outputs": [],
   "source": [
    "8. How do you tell the difference between read() and readlines()?\n",
    "Sol.\n",
    "   The read() method returns the file's entire contents as a single string value.\n",
    "   The readlines() method returns a list of strings, where each string is a line from the file's contents."
   ]
  },
  {
   "cell_type": "code",
   "execution_count": null,
   "id": "e9bebd8a",
   "metadata": {},
   "outputs": [],
   "source": [
    "9. What data structure does a shelf value resemble?\n",
    "Sol. \n",
    "   A shelf value resembles a dictionary value.\n",
    "   it has keys and values, along with keys() and values() methods that work similarly to the dictionary methods of the same names."
   ]
  }
 ],
 "metadata": {
  "kernelspec": {
   "display_name": "Python 3 (ipykernel)",
   "language": "python",
   "name": "python3"
  },
  "language_info": {
   "codemirror_mode": {
    "name": "ipython",
    "version": 3
   },
   "file_extension": ".py",
   "mimetype": "text/x-python",
   "name": "python",
   "nbconvert_exporter": "python",
   "pygments_lexer": "ipython3",
   "version": "3.9.12"
  }
 },
 "nbformat": 4,
 "nbformat_minor": 5
}
