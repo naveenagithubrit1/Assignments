{
 "cells": [
  {
   "cell_type": "code",
   "execution_count": null,
   "id": "fe811411",
   "metadata": {},
   "outputs": [],
   "source": [
    "1. What is the name of the feature responsible for generating Regex objects?\n",
    "Sol . re.compile() function is used for generating Regex objects."
   ]
  },
  {
   "cell_type": "code",
   "execution_count": null,
   "id": "db01fd04",
   "metadata": {},
   "outputs": [],
   "source": [
    "2. Why do raw strings often appear in Regex objects?\n",
    "Sol.Raw strings are used so that backslashes do not have to escape."
   ]
  },
  {
   "cell_type": "code",
   "execution_count": null,
   "id": "8950066d",
   "metadata": {},
   "outputs": [],
   "source": [
    "3. What is the return value of the search() method?\n",
    "Sol .The search() function search in a string for a match. If there's any match then it returns."
   ]
  },
  {
   "cell_type": "code",
   "execution_count": null,
   "id": "b826475d",
   "metadata": {},
   "outputs": [],
   "source": [
    "4. From a Match item, how do you get the actual strings that match the pattern?\n",
    "Sol. The group() method returns the actual strings that match the pattern."
   ]
  },
  {
   "cell_type": "code",
   "execution_count": null,
   "id": "b0cb8bdb",
   "metadata": {},
   "outputs": [],
   "source": [
    "5. In the regex which created from the r'(\\d\\d\\d)-(\\d\\d\\d-\\d\\d\\d\\d)', what does group zero cover? Group 2? Group 1?\n",
    "Sol.\n",
    "  group 0 covers entire match.\n",
    "  group 1 covers first set of paranthesis.\n",
    "  group 2 covers second set of paranthesis."
   ]
  },
  {
   "cell_type": "code",
   "execution_count": null,
   "id": "9461ea2c",
   "metadata": {},
   "outputs": [],
   "source": [
    "6. In standard expression syntax, parentheses and intervals have distinct meanings. How can you tell\n",
    "a regex that you want it to fit real parentheses and periods?\n",
    "Sol. periods and paranthesis can be escaped with backslash : \\"
   ]
  },
  {
   "cell_type": "code",
   "execution_count": null,
   "id": "2799ac49",
   "metadata": {},
   "outputs": [],
   "source": [
    "7. The findall() method returns a string list or a list of string tuples. What causes it to return one of\n",
    "the two options?\n",
    "Sol.\n",
    "  If the regex has no groups, it returns a string list.\n",
    "  If the regex has groups , it returns a list of string tuples.  "
   ]
  },
  {
   "cell_type": "code",
   "execution_count": null,
   "id": "6818c8e4",
   "metadata": {},
   "outputs": [],
   "source": [
    "8. In standard expressions, what does the | character mean?\n",
    "Sol.\n",
    "   The | character signifies match 'either , or' between 2 groups."
   ]
  },
  {
   "cell_type": "code",
   "execution_count": null,
   "id": "6ecff1ac",
   "metadata": {},
   "outputs": [],
   "source": [
    "9. In regular expressions, what does the character stand for?\n",
    "Sol. regex used for matching purpose , where character is used to do that function.\n",
    "All characters, except those having special meaning in regex, matches themselves. \n",
    "E.g., the regex x matches substring \"x\"; regex 9 matches \"9\"; regex = matches \"=\"; and regex @ matches \"@\"."
   ]
  },
  {
   "cell_type": "code",
   "execution_count": null,
   "id": "0c84b078",
   "metadata": {},
   "outputs": [],
   "source": [
    "10.In regular expressions, what is the difference between the + and * characters?\n",
    "Sol. + matches 1 or more.\n",
    "     * matches 0 or more"
   ]
  },
  {
   "cell_type": "code",
   "execution_count": null,
   "id": "5b19b9f2",
   "metadata": {},
   "outputs": [],
   "source": [
    "11. What is the difference between {4} and {4,5} in regular expression?\n",
    "Sol. The {4} matches exactly three instances of the preceding group. The {4,5} matches between four and five instances."
   ]
  },
  {
   "cell_type": "code",
   "execution_count": null,
   "id": "5a5af52a",
   "metadata": {},
   "outputs": [],
   "source": [
    "12. What do you mean by the \\d, \\w, and \\s shorthand character classes signify in regular\n",
    "expressions?\n",
    "Sol. \\d  matches single digit\n",
    "     \\w matches a word\n",
    "     \\s matches space character"
   ]
  },
  {
   "cell_type": "code",
   "execution_count": null,
   "id": "3df6984a",
   "metadata": {},
   "outputs": [],
   "source": [
    "13. What do means by \\D, \\W, and \\S shorthand character classes signify in regular expressions?\n",
    "Sol. The \\D, \\W, and \\S shorthand character classes match a single character that is not a digit, word, or space character, respectively."
   ]
  },
  {
   "cell_type": "code",
   "execution_count": null,
   "id": "6105aec3",
   "metadata": {},
   "outputs": [],
   "source": [
    "14. What is the difference between .*? and .*?\n",
    "Sol. .*? is non- greedy match\n",
    "     .* is greedy ,match"
   ]
  },
  {
   "cell_type": "code",
   "execution_count": null,
   "id": "7eec53d7",
   "metadata": {},
   "outputs": [],
   "source": [
    "15. What is the syntax for matching both numbers and lowercase letters with a character class?\n",
    "Sol. Either [0-9a-z] or [a-z0-9]"
   ]
  },
  {
   "cell_type": "code",
   "execution_count": null,
   "id": "c648b3e0",
   "metadata": {},
   "outputs": [],
   "source": [
    "16. What is the procedure for making a normal expression in regax case insensitive?\n",
    "Sol . Passing re.I or re.IGNORECASE as the second argument to re.compile() will make the matching case insensitive."
   ]
  },
  {
   "cell_type": "code",
   "execution_count": null,
   "id": "a7eee6e6",
   "metadata": {},
   "outputs": [],
   "source": [
    "17. What does the . character normally match? What does it match if re.DOTALL is passed as 2nd\n",
    "argument in re.compile()?\n",
    "Sol.The . character normally matches any character except the newline character.\n",
    "    If re.DOTALL is passed as the second argument to re.compile(), then the dot will also match newline characters."
   ]
  },
  {
   "cell_type": "code",
   "execution_count": null,
   "id": "65d8b048",
   "metadata": {},
   "outputs": [],
   "source": [
    "18.If numRegex = re.compile(r'\\d+'), what will numRegex.sub('X', '11 drummers, 10 pipers, five rings, 4 hen') return?"
   ]
  },
  {
   "cell_type": "code",
   "execution_count": 1,
   "id": "ec9e0cdb",
   "metadata": {},
   "outputs": [],
   "source": [
    "import re\n",
    "numRegex = re.compile(r'\\d+')"
   ]
  },
  {
   "cell_type": "code",
   "execution_count": 2,
   "id": "ad197f25",
   "metadata": {},
   "outputs": [
    {
     "data": {
      "text/plain": [
       "'X drummers, X pipers, five rings, X hen'"
      ]
     },
     "execution_count": 2,
     "metadata": {},
     "output_type": "execute_result"
    }
   ],
   "source": [
    "numRegex.sub('X', '11 drummers, 10 pipers, five rings, 4 hen')\n"
   ]
  },
  {
   "cell_type": "code",
   "execution_count": null,
   "id": "460d615e",
   "metadata": {},
   "outputs": [],
   "source": [
    "19. What does passing re.VERBOSE as the 2nd argument to re.compile() allow to do?\n",
    "Sol. re.VERBOSE allows to add white space and comments in the string passed to re.compile()"
   ]
  },
  {
   "cell_type": "code",
   "execution_count": null,
   "id": "e5eb9720",
   "metadata": {},
   "outputs": [],
   "source": [
    "20. How would you write a regex that match a number with comma for every three digits? It must match the given following:\n",
    "\n",
    "'42'\n",
    "'1,234'\n",
    "'6,368,745'\n",
    "but not the following:\n",
    "'12,34,567' (which has only two digits between the commas)\n",
    "'1234' (which lacks commas)\n",
    "Sol. re.compile(r'^\\d{1,3}(,\\d{3})*$') "
   ]
  },
  {
   "cell_type": "code",
   "execution_count": null,
   "id": "8775917e",
   "metadata": {},
   "outputs": [],
   "source": [
    "21.How would you write a regex that matches the full name of someone whose last name is Watanabe?\n",
    "You can assume that the first name that comes before it will always be one word that begins with a capital letter.\n",
    "The regex must match the following:\n",
    "\n",
    "'Haruto Watanabe'\n",
    "'Alice Watanabe'\n",
    "'RoboCop Watanabe'\n",
    "but not the following:\n",
    "'haruto Watanabe' (where the first name is not capitalized)\n",
    "'Mr. Watanabe' (where the preceding word has a nonletter character)\n",
    "'Watanabe' (which has no first name)\n",
    "'Haruto watanabe' (where Watanabe is not capitalized)\n",
    "\n",
    "\n",
    "Sol .  re.compile(r'[A-Z][a-z]*\\sNakamoto')"
   ]
  },
  {
   "cell_type": "code",
   "execution_count": null,
   "id": "f56d0bfa",
   "metadata": {},
   "outputs": [],
   "source": [
    "How would you write a regex that matches a sentence where the first word is either Alice, Bob, or Carol; \n",
    "the second word is either eats, pets, or throws; the third word is apples, cats, or baseballs; and the sentence ends with a period? This regex should be case-insensitive.\n",
    "It must match the following:\n",
    "\n",
    "'Alice eats apples.'\n",
    "'Bob pets cats.'\n",
    "'Carol throws baseballs.'\n",
    "'Alice throws Apples.'\n",
    "'BOB EATS CATS.'\n",
    "but not the following:\n",
    "'RoboCop eats apples.'\n",
    "'ALICE THROWS FOOTBALLS.'\n",
    "'Carol eats 7 cats.'\n",
    "\n",
    "Sol . re.compile(r'(Alice|Bob|Carol)\\s(eats|pets|throws)\\s(apples|cats|baseballs).', re.IGNORECASE)"
   ]
  }
 ],
 "metadata": {
  "kernelspec": {
   "display_name": "Python 3 (ipykernel)",
   "language": "python",
   "name": "python3"
  },
  "language_info": {
   "codemirror_mode": {
    "name": "ipython",
    "version": 3
   },
   "file_extension": ".py",
   "mimetype": "text/x-python",
   "name": "python",
   "nbconvert_exporter": "python",
   "pygments_lexer": "ipython3",
   "version": "3.9.12"
  }
 },
 "nbformat": 4,
 "nbformat_minor": 5
}
